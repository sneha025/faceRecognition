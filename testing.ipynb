{
 "cells": [
  {
   "cell_type": "code",
   "execution_count": 12,
   "metadata": {},
   "outputs": [],
   "source": [
    "import cv2\n",
    "import numpy as np\n",
    "import pickle"
   ]
  },
  {
   "cell_type": "code",
   "execution_count": 14,
   "metadata": {},
   "outputs": [],
   "source": [
    "face_detect=cv2.CascadeClassifier(\"haarcascade_frontalface_default.xml\")\n",
    "recogniser=cv2.face.LBPHFaceRecognizer_create()\n",
    "recogniser.read(\"trainner.yml\")\n",
    "cap=cv2.VideoCapture(0)\n",
    "labels={}\n",
    "with open(\"labels.pickle\",\"rb\") as f:\n",
    "    og_labels=pickle.load(f)\n",
    "    labels={v:k for k,v in og_labels.items()}\n",
    "    \n",
    "while(True):\n",
    "    ret,frame=cap.read()\n",
    "    gray=cv2.cvtColor(frame,cv2.COLOR_BGR2GRAY)\n",
    "    faces=face_detect.detectMultiScale(gray,1.3,5)\n",
    "    for (x,y,w,h) in faces:\n",
    "       # print(x,y,h,w)\n",
    "        roi_color=frame[y:y+h,x:x+w]\n",
    "        roi_gray=gray[y:y+h,x:x+w]\n",
    "        \n",
    "        id_,conf=recogniser.predict(roi_gray)\n",
    "        #img_item=\"my.png\"\n",
    "        #cv2.imwrite(img_item,roi_gray)\n",
    "        \n",
    "        \n",
    "        if conf>=75:\n",
    "           # print(id_)\n",
    "            font=cv2.FONT_HERSHEY_SIMPLEX\n",
    "            name=labels[id_]\n",
    "            color=(255,255,255)\n",
    "            stroke=2\n",
    "            cv2.putText(frame,name,(x,y),font,1,color,stroke,cv2.LINE_AA)\n",
    "            \n",
    "        \n",
    "        color=(255,0,0)\n",
    "        stroke=2\n",
    "        end_x=x+w\n",
    "        end_y=y+h\n",
    "        \n",
    "        cv2.rectangle(frame,(x,y),(end_x,end_y),color,stroke)\n",
    "        \n",
    "        \n",
    "    cv2.imshow(\"frame\",frame)\n",
    "    if cv2.waitKey(20) &0xFF==ord('q'):\n",
    "        break\n",
    "\n",
    "cap.release()\n",
    "cv2.destroyAllWindows()\n",
    "    \n",
    "        \n",
    "    "
   ]
  }
 ],
 "metadata": {
  "kernelspec": {
   "display_name": "Python 3",
   "language": "python",
   "name": "python3"
  },
  "language_info": {
   "codemirror_mode": {
    "name": "ipython",
    "version": 3
   },
   "file_extension": ".py",
   "mimetype": "text/x-python",
   "name": "python",
   "nbconvert_exporter": "python",
   "pygments_lexer": "ipython3",
   "version": "3.5.6"
  }
 },
 "nbformat": 4,
 "nbformat_minor": 4
}
