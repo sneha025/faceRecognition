{
 "cells": [
  {
   "cell_type": "code",
   "execution_count": 1,
   "metadata": {},
   "outputs": [],
   "source": [
    "import numpy as np\n",
    "import cv2"
   ]
  },
  {
   "cell_type": "code",
   "execution_count": 3,
   "metadata": {},
   "outputs": [
    {
     "name": "stdout",
     "output_type": "stream",
     "text": [
      "Escape hit closeing.............\n"
     ]
    }
   ],
   "source": [
    "face_classifier=cv2.CascadeClassifier(\"haarcascade_frontalface_default.xml\")\n",
    "\n",
    "def face_extraction(img):\n",
    "    gray=cv2.cvtColor(img,cv2.COLOR_BGR2GRAY)\n",
    "    face=face_classifier.detectMultiScale(gray,1.3,5)\n",
    "    \n",
    "    if face is():\n",
    "        return None\n",
    "    for(x,y,w,h) in face:\n",
    "        cropped_face=img[y:y+h,x:x+w]\n",
    "    return cropped_face\n",
    "    \n",
    "    \n",
    "    \n",
    "    \n",
    "    \n",
    "cam=cv2.VideoCapture(0)\n",
    "img_counter=0\n",
    "while(True):\n",
    "    ret,frame=cam.read()\n",
    "    if not ret:\n",
    "        break\n",
    "    k=cv2.waitKey(1)\n",
    "    cv2.imshow(\"sample\",frame)\n",
    "    if k%256==27:\n",
    "        #escape pressed\n",
    "        print(\"Escape hit closeing.............\")\n",
    "        break\n",
    "    elif k%256== 32:\n",
    "        #scape pressed\n",
    "         \n",
    "        face=cv2.resize(face_extraction(frame),(200,200))\n",
    "        face=cv2.cvtColor(face,cv2.COLOR_BGR2GRAY)\n",
    "        \n",
    "        img_filepath=r\"C:\\Users\\SNEHA\\Desktop\\New folder\\faces\\sneha{}.png\".format(img_counter)\n",
    "        cv2.imwrite(img_filepath,face)\n",
    "        \n",
    "        img_counter+=1\n",
    "       \n",
    "cam.release()\n",
    "cv2.destroyAllWindows()"
   ]
  },
  {
   "cell_type": "code",
   "execution_count": null,
   "metadata": {},
   "outputs": [],
   "source": []
  }
 ],
 "metadata": {
  "kernelspec": {
   "display_name": "Python 3",
   "language": "python",
   "name": "python3"
  },
  "language_info": {
   "codemirror_mode": {
    "name": "ipython",
    "version": 3
   },
   "file_extension": ".py",
   "mimetype": "text/x-python",
   "name": "python",
   "nbconvert_exporter": "python",
   "pygments_lexer": "ipython3",
   "version": "3.5.6"
  }
 },
 "nbformat": 4,
 "nbformat_minor": 4
}
